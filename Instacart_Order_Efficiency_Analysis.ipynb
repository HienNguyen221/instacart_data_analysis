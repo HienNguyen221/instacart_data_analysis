{
  "nbformat": 4,
  "nbformat_minor": 0,
  "metadata": {
    "colab": {
      "provenance": [],
      "authorship_tag": "ABX9TyNspOZAuSVzf7B5RJWr1OJL",
      "include_colab_link": true
    },
    "kernelspec": {
      "name": "python3",
      "display_name": "Python 3"
    },
    "language_info": {
      "name": "python"
    }
  },
  "cells": [
    {
      "cell_type": "markdown",
      "metadata": {
        "id": "view-in-github",
        "colab_type": "text"
      },
      "source": [
        "<a href=\"https://colab.research.google.com/github/HienNguyen221/instacart_data_analysis/blob/main/Instacart_Order_Efficiency_Analysis.ipynb\" target=\"_parent\"><img src=\"https://colab.research.google.com/assets/colab-badge.svg\" alt=\"Open In Colab\"/></a>"
      ]
    },
    {
      "cell_type": "code",
      "execution_count": null,
      "metadata": {
        "id": "HlpahAbzP4ZL"
      },
      "outputs": [],
      "source": []
    },
    {
      "cell_type": "code",
      "source": [
        "import pandas as pd\n",
        "# Load datasets\n",
        "# Use on_bad_lines='skip' to skip lines with parsing errors\n",
        "orders = pd.read_csv('orders.csv', on_bad_lines='skip')\n",
        "order_products = pd.read_csv('order_products__prior.csv')\n",
        "products = pd.read_csv('products.csv')\n",
        "aisles = pd.read_csv('aisles.csv')\n",
        "departments = pd.read_csv('departments.csv')\n",
        "\n",
        "# Show basic info\n",
        "print(\"Orders:\")\n",
        "print(orders.head())\n",
        "\n",
        "print(\"\\nProducts:\")\n",
        "print(products.head())\n",
        "\n",
        "order_products = pd.read_csv('order_products__prior.csv', on_bad_lines='skip')\n",
        "merged = order_products.merge(products, on='product_id')\n",
        "\n",
        "top_reordered = merged[merged['reordered'] == 1]['product_name'].value_counts().head(10)\n",
        "print(top_reordered)"
      ],
      "metadata": {
        "colab": {
          "base_uri": "https://localhost:8080/"
        },
        "id": "1gAtBluAQ3-q",
        "outputId": "cdffacd1-b0a7-4571-c2af-32418edd91b8"
      },
      "execution_count": null,
      "outputs": [
        {
          "output_type": "stream",
          "name": "stderr",
          "text": [
            "<ipython-input-2-6105c97353cf>:4: DtypeWarning: Columns (0,1) have mixed types. Specify dtype option on import or set low_memory=False.\n",
            "  orders = pd.read_csv('orders.csv', on_bad_lines='skip')\n"
          ]
        },
        {
          "output_type": "stream",
          "name": "stdout",
          "text": [
            "Orders:\n",
            "  order_id user_id eval_set  order_number  order_dow  order_hour_of_day  \\\n",
            "0  2539329       1    prior           1.0        2.0                8.0   \n",
            "1  2398795       1    prior           2.0        3.0                7.0   \n",
            "2   473747       1    prior           3.0        3.0               12.0   \n",
            "3  2254736       1    prior           4.0        4.0                7.0   \n",
            "4   431534       1    prior           5.0        4.0               15.0   \n",
            "\n",
            "   days_since_prior_order  \n",
            "0                     NaN  \n",
            "1                    15.0  \n",
            "2                    21.0  \n",
            "3                    29.0  \n",
            "4                    28.0  \n",
            "\n",
            "Products:\n",
            "   product_id                                       product_name  aisle_id  \\\n",
            "0           1                         Chocolate Sandwich Cookies        61   \n",
            "1           2                                   All-Seasons Salt       104   \n",
            "2           3               Robust Golden Unsweetened Oolong Tea        94   \n",
            "3           4  Smart Ones Classic Favorites Mini Rigatoni Wit...        38   \n",
            "4           5                          Green Chile Anytime Sauce         5   \n",
            "\n",
            "   department_id  \n",
            "0             19  \n",
            "1             13  \n",
            "2              7  \n",
            "3              1  \n",
            "4             13  \n",
            "product_name\n",
            "Banana                    398609\n",
            "Bag of Organic Bananas    315913\n",
            "Organic Strawberries      205845\n",
            "Organic Baby Spinach      186884\n",
            "Organic Hass Avocado      170131\n",
            "Organic Avocado           134044\n",
            "Organic Whole Milk        114510\n",
            "Large Lemon               106255\n",
            "Organic Raspberries       105409\n",
            "Strawberries               99802\n",
            "Name: count, dtype: int64\n"
          ]
        }
      ]
    },
    {
      "cell_type": "markdown",
      "source": [
        "These patterns may indicate that the data was collected during the late fall to winter season, when:\n",
        "\n",
        "-Shoppers tend to cook more at home (e.g., holiday meals, colder weather comfort food).\n",
        "\n",
        "-Health-conscious behaviors rise (e.g., detox or tea drinking during or after the holiday season).\n",
        "\n",
        "-Pantry staples like seasoning are in high demand for family gatherings and meal prep\n",
        "\n",
        "-> Recommendation for Instacart\n",
        "+Proactively stock and promote items like spices and teas during late fall and winter months.\n",
        "\n",
        "+Introduce seasonal bundles (e.g., “Cozy Cooking Kit” or “Winter Wellness Pack”) featuring top-reordered items.\n",
        "\n",
        "+Highlight health-focused products (unsweetened teas, low-sodium options) in early January when customers set wellness goals."
      ],
      "metadata": {
        "id": "mXum8uVhUQtm"
      }
    }
  ]
}